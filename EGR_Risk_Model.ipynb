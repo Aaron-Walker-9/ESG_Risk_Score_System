{
 "cells": [
  {
   "cell_type": "code",
   "execution_count": 1,
   "id": "198c86cb",
   "metadata": {},
   "outputs": [],
   "source": [
    "import pandas as pd\n",
    "import matplotlib.pyplot as plt\n",
    "import numpy as np\n",
    "import pdfplumber\n",
    "import re\n",
    "import urllib.request\n",
    "from pdf_parser import url_to_pdf\n",
    "\n",
    "#Use ESG-BERT (Bidirectional Encoder Representations from Transformers) for natural language processing of company SEC filings\n",
    "#Input: databbase of SEC filings by company.\n",
    "#Outout: ESG Risk score and classifcation (Low, Med, High)\n",
    "\n",
    "#To Do list:\n",
    "# 1) ETL (Extract) pipeline using either responsibility reports.com (volentary ESG reports, likely effected by greenwashing) or SEC filings (best)\n",
    "# 2) Transform & load: PDF sentence classification into E,S,G\n",
    "# 3) Import ESG Models, return esg classifications per sentence\n",
    "# 4) Import ESG sentence classifications, analyse and return sentiment\n",
    "# 5) Calculate risk score and classify company\n",
    "# 6+) Apply MLOPS and productionarise: Containerise, orchestrate, monitor -> finetune ESG hugging face model -> Visualisations in streamlit server\n",
    "# Write up paper and compare with ESG literature"
   ]
  },
  {
   "cell_type": "code",
   "execution_count": 2,
   "id": "170b4018",
   "metadata": {},
   "outputs": [],
   "source": [
    "# 1) Extract pdfs given url to report\n",
    "\n",
    "#Extract from:\n",
    "#https://www.responsibilityreports.com/ and\n",
    "#https://www.sec.gov/edgar/search/\n",
    "\n",
    "company_url_list = [\n",
    "\"https://www.responsibilityreports.com/HostedData/ResponsibilityReports/PDF/NASDAQ_AMD_2024.pdf\",\n",
    "\"https://www.responsibilityreports.com/HostedData/ResponsibilityReports/PDF/NYSE_MCD_2023.pdf\",\n",
    "\"https://www.responsibilityreports.com/HostedData/ResponsibilityReports/PDF/LSE_BT_2023.pdf\"\n",
    "]\n",
    "\n",
    "url_to_pdf(company_url_list)\n",
    "\n",
    "#Functionally operaitonal\n"
   ]
  },
  {
   "cell_type": "code",
   "execution_count": null,
   "id": "e1355bca",
   "metadata": {},
   "outputs": [],
   "source": [
    "# 2) Transfrorm & load: Convert from PDF to list of clean sentences\n",
    "\n",
    "pdf_location = r'data/NYSE_MCD_2023.pdf'\n",
    "def pdfparser(pdf_location):\n",
    "    def pdf_to_text(pdf_url):\n",
    "        \"\"\"\n",
    "        Converts PDF into string\n",
    "        \"\"\"\n",
    "        all_text = \"\"\n",
    "        with pdfplumber.open(f\"{pdf_url}\") as pdf:\n",
    "            for page in pdf.pages:\n",
    "                text = page.extract_text()\n",
    "                if text: \n",
    "                    all_text += text + \" \"\n",
    "        return all_text.strip()\n",
    "\n",
    "    def get_clean_text(text):\n",
    "        \"\"\"\n",
    "        Cleans input text\n",
    "        \"\"\"\n",
    "        text = text.replace(\"\\n\",\" \") # convert newline into space\n",
    "        text = re.sub(r'\\s+', ' ', text) #convert multuple spaces into single space \n",
    "        text = re.sub(r'[•*]','', text) # removes symbols • and *\n",
    "        return text.strip()\n",
    "\n",
    "    def get_clean_text_to_list(words):\n",
    "        \"\"\"\n",
    "        Splits clean text from words into sentences, then returns as list\n",
    "        \"\"\"\n",
    "        sentences = get_clean_text(words)\n",
    "        sentences = re.split(r'(?<=[.!?])\\s+', sentences)\n",
    "        return [s.strip() for s in sentences if s.strip()]\n",
    "        \n",
    "    pdf_text = pdf_to_text(pdf_location)\n",
    "    return get_clean_text_to_list(pdf_text)\n",
    "\n",
    "clean_text = pdfparser(pdf_location)\n",
    "\n",
    "#Need to check outputs and ensure right format, then convert defs into class for reuse"
   ]
  },
  {
   "cell_type": "code",
   "execution_count": 25,
   "id": "826504c1",
   "metadata": {},
   "outputs": [
    {
     "name": "stdout",
     "output_type": "stream",
     "text": [
      "Length of company filing in sentences: 1596\n"
     ]
    }
   ],
   "source": [
    "print(f\"Length of company filing in sentences: {len(clean_texts)}\")"
   ]
  },
  {
   "cell_type": "code",
   "execution_count": null,
   "id": "62586ee4",
   "metadata": {},
   "outputs": [],
   "source": [
    "# 3) Import ESG Models, return esg classifications per sentence\n"
   ]
  },
  {
   "cell_type": "code",
   "execution_count": null,
   "id": "630d2032",
   "metadata": {},
   "outputs": [],
   "source": [
    "# 4) Import ESG sentence classifications, analyse and return sentiment\n"
   ]
  },
  {
   "cell_type": "code",
   "execution_count": null,
   "id": "24256920",
   "metadata": {},
   "outputs": [],
   "source": [
    "# 5) Calculate risk score and classify company"
   ]
  },
  {
   "cell_type": "code",
   "execution_count": null,
   "id": "05664a94",
   "metadata": {},
   "outputs": [],
   "source": [
    "# 6+) Apply MLOPS and productionarise: Containerise, orchestrate, monitor -> finetune ESG hugging face model -> Visualisations in streamlit server"
   ]
  }
 ],
 "metadata": {
  "kernelspec": {
   "display_name": "Python 3",
   "language": "python",
   "name": "python3"
  },
  "language_info": {
   "codemirror_mode": {
    "name": "ipython",
    "version": 3
   },
   "file_extension": ".py",
   "mimetype": "text/x-python",
   "name": "python",
   "nbconvert_exporter": "python",
   "pygments_lexer": "ipython3",
   "version": "3.9.16"
  }
 },
 "nbformat": 4,
 "nbformat_minor": 5
}
